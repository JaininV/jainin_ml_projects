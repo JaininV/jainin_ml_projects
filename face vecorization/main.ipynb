{
 "cells": [
  {
   "cell_type": "code",
   "execution_count": 5,
   "metadata": {},
   "outputs": [
    {
     "name": "stdout",
     "output_type": "stream",
     "text": [
      "Collecting deepface\n",
      "  Downloading deepface-0.0.89-py3-none-any.whl (94 kB)\n",
      "     ---------------------------------------- 94.3/94.3 kB 2.7 MB/s eta 0:00:00\n",
      "Requirement already satisfied: keras>=2.2.0 in c:\\users\\owner\\anaconda3\\lib\\site-packages (from deepface) (2.12.0)\n",
      "Requirement already satisfied: numpy>=1.14.0 in c:\\users\\owner\\anaconda3\\lib\\site-packages (from deepface) (1.26.4)\n",
      "Collecting opencv-python>=4.5.5.64\n",
      "  Using cached opencv_python-4.9.0.80-cp37-abi3-win_amd64.whl (38.6 MB)\n",
      "Collecting retina-face>=0.0.1\n",
      "  Downloading retina_face-0.0.16-py3-none-any.whl (25 kB)\n",
      "Requirement already satisfied: Pillow>=5.2.0 in c:\\users\\owner\\anaconda3\\lib\\site-packages (from deepface) (9.2.0)\n",
      "Collecting gdown>=3.10.1\n",
      "  Downloading gdown-5.1.0-py3-none-any.whl (17 kB)\n",
      "Requirement already satisfied: tensorflow>=1.9.0 in c:\\users\\owner\\anaconda3\\lib\\site-packages (from deepface) (2.12.0)\n",
      "Collecting mtcnn>=0.1.0\n",
      "  Using cached mtcnn-0.1.1-py3-none-any.whl (2.3 MB)\n",
      "Collecting gunicorn>=20.1.0\n",
      "  Downloading gunicorn-21.2.0-py3-none-any.whl (80 kB)\n",
      "     ---------------------------------------- 80.2/80.2 kB 4.7 MB/s eta 0:00:00\n",
      "Requirement already satisfied: tqdm>=4.30.0 in c:\\users\\owner\\anaconda3\\lib\\site-packages (from deepface) (4.64.1)\n",
      "Requirement already satisfied: pandas>=0.23.4 in c:\\users\\owner\\anaconda3\\lib\\site-packages (from deepface) (1.4.4)\n",
      "Collecting fire>=0.4.0\n",
      "  Downloading fire-0.6.0.tar.gz (88 kB)\n",
      "     ---------------------------------------- 88.4/88.4 kB 5.2 MB/s eta 0:00:00\n",
      "  Preparing metadata (setup.py): started\n",
      "  Preparing metadata (setup.py): finished with status 'done'\n",
      "Requirement already satisfied: Flask>=1.1.2 in c:\\users\\owner\\anaconda3\\lib\\site-packages (from deepface) (1.1.2)\n",
      "Requirement already satisfied: six in c:\\users\\owner\\anaconda3\\lib\\site-packages (from fire>=0.4.0->deepface) (1.16.0)\n",
      "Requirement already satisfied: termcolor in c:\\users\\owner\\anaconda3\\lib\\site-packages (from fire>=0.4.0->deepface) (2.3.0)\n",
      "Requirement already satisfied: Werkzeug>=0.15 in c:\\users\\owner\\anaconda3\\lib\\site-packages (from Flask>=1.1.2->deepface) (2.0.3)\n",
      "Requirement already satisfied: click>=5.1 in c:\\users\\owner\\anaconda3\\lib\\site-packages (from Flask>=1.1.2->deepface) (8.0.4)\n",
      "Requirement already satisfied: Jinja2>=2.10.1 in c:\\users\\owner\\anaconda3\\lib\\site-packages (from Flask>=1.1.2->deepface) (2.11.3)\n",
      "Requirement already satisfied: itsdangerous>=0.24 in c:\\users\\owner\\anaconda3\\lib\\site-packages (from Flask>=1.1.2->deepface) (2.0.1)\n",
      "Requirement already satisfied: filelock in c:\\users\\owner\\anaconda3\\lib\\site-packages (from gdown>=3.10.1->deepface) (3.6.0)\n",
      "Requirement already satisfied: beautifulsoup4 in c:\\users\\owner\\anaconda3\\lib\\site-packages (from gdown>=3.10.1->deepface) (4.11.1)\n",
      "Requirement already satisfied: requests[socks] in c:\\users\\owner\\anaconda3\\lib\\site-packages (from gdown>=3.10.1->deepface) (2.28.1)\n",
      "Requirement already satisfied: packaging in c:\\users\\owner\\anaconda3\\lib\\site-packages (from gunicorn>=20.1.0->deepface) (21.3)\n",
      "Requirement already satisfied: python-dateutil>=2.8.1 in c:\\users\\owner\\anaconda3\\lib\\site-packages (from pandas>=0.23.4->deepface) (2.8.2)\n",
      "Requirement already satisfied: pytz>=2020.1 in c:\\users\\owner\\anaconda3\\lib\\site-packages (from pandas>=0.23.4->deepface) (2022.1)\n",
      "Requirement already satisfied: tensorflow-intel==2.12.0 in c:\\users\\owner\\anaconda3\\lib\\site-packages (from tensorflow>=1.9.0->deepface) (2.12.0)\n",
      "Requirement already satisfied: typing-extensions>=3.6.6 in c:\\users\\owner\\anaconda3\\lib\\site-packages (from tensorflow-intel==2.12.0->tensorflow>=1.9.0->deepface) (4.10.0)\n",
      "Requirement already satisfied: tensorflow-io-gcs-filesystem>=0.23.1 in c:\\users\\owner\\anaconda3\\lib\\site-packages (from tensorflow-intel==2.12.0->tensorflow>=1.9.0->deepface) (0.31.0)\n",
      "Requirement already satisfied: flatbuffers>=2.0 in c:\\users\\owner\\anaconda3\\lib\\site-packages (from tensorflow-intel==2.12.0->tensorflow>=1.9.0->deepface) (23.5.26)\n",
      "Requirement already satisfied: google-pasta>=0.1.1 in c:\\users\\owner\\anaconda3\\lib\\site-packages (from tensorflow-intel==2.12.0->tensorflow>=1.9.0->deepface) (0.2.0)\n",
      "Requirement already satisfied: jax>=0.3.15 in c:\\users\\owner\\anaconda3\\lib\\site-packages (from tensorflow-intel==2.12.0->tensorflow>=1.9.0->deepface) (0.4.12)\n",
      "Requirement already satisfied: protobuf!=4.21.0,!=4.21.1,!=4.21.2,!=4.21.3,!=4.21.4,!=4.21.5,<5.0.0dev,>=3.20.3 in c:\\users\\owner\\anaconda3\\lib\\site-packages (from tensorflow-intel==2.12.0->tensorflow>=1.9.0->deepface) (4.23.2)\n",
      "Requirement already satisfied: astunparse>=1.6.0 in c:\\users\\owner\\anaconda3\\lib\\site-packages (from tensorflow-intel==2.12.0->tensorflow>=1.9.0->deepface) (1.6.3)\n",
      "Requirement already satisfied: absl-py>=1.0.0 in c:\\users\\owner\\anaconda3\\lib\\site-packages (from tensorflow-intel==2.12.0->tensorflow>=1.9.0->deepface) (1.4.0)\n",
      "Requirement already satisfied: tensorflow-estimator<2.13,>=2.12.0 in c:\\users\\owner\\anaconda3\\lib\\site-packages (from tensorflow-intel==2.12.0->tensorflow>=1.9.0->deepface) (2.12.0)\n",
      "Requirement already satisfied: tensorboard<2.13,>=2.12 in c:\\users\\owner\\anaconda3\\lib\\site-packages (from tensorflow-intel==2.12.0->tensorflow>=1.9.0->deepface) (2.12.3)\n",
      "Requirement already satisfied: h5py>=2.9.0 in c:\\users\\owner\\anaconda3\\lib\\site-packages (from tensorflow-intel==2.12.0->tensorflow>=1.9.0->deepface) (3.7.0)\n",
      "Requirement already satisfied: wrapt<1.15,>=1.11.0 in c:\\users\\owner\\anaconda3\\lib\\site-packages (from tensorflow-intel==2.12.0->tensorflow>=1.9.0->deepface) (1.14.1)\n",
      "Requirement already satisfied: libclang>=13.0.0 in c:\\users\\owner\\anaconda3\\lib\\site-packages (from tensorflow-intel==2.12.0->tensorflow>=1.9.0->deepface) (16.0.0)\n",
      "Requirement already satisfied: gast<=0.4.0,>=0.2.1 in c:\\users\\owner\\anaconda3\\lib\\site-packages (from tensorflow-intel==2.12.0->tensorflow>=1.9.0->deepface) (0.4.0)\n",
      "Requirement already satisfied: grpcio<2.0,>=1.24.3 in c:\\users\\owner\\anaconda3\\lib\\site-packages (from tensorflow-intel==2.12.0->tensorflow>=1.9.0->deepface) (1.54.2)\n",
      "Collecting numpy>=1.14.0\n",
      "  Using cached numpy-1.23.5-cp39-cp39-win_amd64.whl (14.7 MB)\n",
      "Requirement already satisfied: setuptools in c:\\users\\owner\\anaconda3\\lib\\site-packages (from tensorflow-intel==2.12.0->tensorflow>=1.9.0->deepface) (63.4.1)\n",
      "Requirement already satisfied: opt-einsum>=2.3.2 in c:\\users\\owner\\anaconda3\\lib\\site-packages (from tensorflow-intel==2.12.0->tensorflow>=1.9.0->deepface) (3.3.0)\n",
      "Requirement already satisfied: colorama in c:\\users\\owner\\anaconda3\\lib\\site-packages (from tqdm>=4.30.0->deepface) (0.4.6)\n",
      "Requirement already satisfied: MarkupSafe>=0.23 in c:\\users\\owner\\anaconda3\\lib\\site-packages (from Jinja2>=2.10.1->Flask>=1.1.2->deepface) (2.0.1)\n",
      "Requirement already satisfied: soupsieve>1.2 in c:\\users\\owner\\anaconda3\\lib\\site-packages (from beautifulsoup4->gdown>=3.10.1->deepface) (2.3.1)\n",
      "Requirement already satisfied: pyparsing!=3.0.5,>=2.0.2 in c:\\users\\owner\\anaconda3\\lib\\site-packages (from packaging->gunicorn>=20.1.0->deepface) (3.0.9)\n",
      "Requirement already satisfied: certifi>=2017.4.17 in c:\\users\\owner\\anaconda3\\lib\\site-packages (from requests[socks]->gdown>=3.10.1->deepface) (2022.9.14)\n",
      "Requirement already satisfied: idna<4,>=2.5 in c:\\users\\owner\\anaconda3\\lib\\site-packages (from requests[socks]->gdown>=3.10.1->deepface) (3.3)\n",
      "Requirement already satisfied: charset-normalizer<3,>=2 in c:\\users\\owner\\anaconda3\\lib\\site-packages (from requests[socks]->gdown>=3.10.1->deepface) (2.0.4)\n",
      "Requirement already satisfied: urllib3<1.27,>=1.21.1 in c:\\users\\owner\\anaconda3\\lib\\site-packages (from requests[socks]->gdown>=3.10.1->deepface) (1.26.11)\n",
      "Requirement already satisfied: PySocks!=1.5.7,>=1.5.6 in c:\\users\\owner\\anaconda3\\lib\\site-packages (from requests[socks]->gdown>=3.10.1->deepface) (1.7.1)\n",
      "Requirement already satisfied: wheel<1.0,>=0.23.0 in c:\\users\\owner\\anaconda3\\lib\\site-packages (from astunparse>=1.6.0->tensorflow-intel==2.12.0->tensorflow>=1.9.0->deepface) (0.37.1)\n",
      "Requirement already satisfied: ml-dtypes>=0.1.0 in c:\\users\\owner\\anaconda3\\lib\\site-packages (from jax>=0.3.15->tensorflow-intel==2.12.0->tensorflow>=1.9.0->deepface) (0.2.0)\n",
      "Requirement already satisfied: importlib-metadata>=4.6 in c:\\users\\owner\\anaconda3\\lib\\site-packages (from jax>=0.3.15->tensorflow-intel==2.12.0->tensorflow>=1.9.0->deepface) (4.11.3)\n",
      "Requirement already satisfied: scipy>=1.7 in c:\\users\\owner\\anaconda3\\lib\\site-packages (from jax>=0.3.15->tensorflow-intel==2.12.0->tensorflow>=1.9.0->deepface) (1.9.1)\n",
      "Requirement already satisfied: google-auth-oauthlib<1.1,>=0.5 in c:\\users\\owner\\anaconda3\\lib\\site-packages (from tensorboard<2.13,>=2.12->tensorflow-intel==2.12.0->tensorflow>=1.9.0->deepface) (1.0.0)\n",
      "Requirement already satisfied: tensorboard-data-server<0.8.0,>=0.7.0 in c:\\users\\owner\\anaconda3\\lib\\site-packages (from tensorboard<2.13,>=2.12->tensorflow-intel==2.12.0->tensorflow>=1.9.0->deepface) (0.7.1)\n",
      "Requirement already satisfied: markdown>=2.6.8 in c:\\users\\owner\\anaconda3\\lib\\site-packages (from tensorboard<2.13,>=2.12->tensorflow-intel==2.12.0->tensorflow>=1.9.0->deepface) (3.3.4)\n",
      "Requirement already satisfied: google-auth<3,>=1.6.3 in c:\\users\\owner\\anaconda3\\lib\\site-packages (from tensorboard<2.13,>=2.12->tensorflow-intel==2.12.0->tensorflow>=1.9.0->deepface) (2.20.0)\n",
      "Requirement already satisfied: rsa<5,>=3.1.4 in c:\\users\\owner\\anaconda3\\lib\\site-packages (from google-auth<3,>=1.6.3->tensorboard<2.13,>=2.12->tensorflow-intel==2.12.0->tensorflow>=1.9.0->deepface) (4.9)\n",
      "Requirement already satisfied: pyasn1-modules>=0.2.1 in c:\\users\\owner\\anaconda3\\lib\\site-packages (from google-auth<3,>=1.6.3->tensorboard<2.13,>=2.12->tensorflow-intel==2.12.0->tensorflow>=1.9.0->deepface) (0.2.8)\n",
      "Requirement already satisfied: cachetools<6.0,>=2.0.0 in c:\\users\\owner\\anaconda3\\lib\\site-packages (from google-auth<3,>=1.6.3->tensorboard<2.13,>=2.12->tensorflow-intel==2.12.0->tensorflow>=1.9.0->deepface) (5.3.1)\n",
      "Requirement already satisfied: requests-oauthlib>=0.7.0 in c:\\users\\owner\\anaconda3\\lib\\site-packages (from google-auth-oauthlib<1.1,>=0.5->tensorboard<2.13,>=2.12->tensorflow-intel==2.12.0->tensorflow>=1.9.0->deepface) (1.3.1)\n",
      "Requirement already satisfied: zipp>=0.5 in c:\\users\\owner\\anaconda3\\lib\\site-packages (from importlib-metadata>=4.6->jax>=0.3.15->tensorflow-intel==2.12.0->tensorflow>=1.9.0->deepface) (3.8.0)\n",
      "Requirement already satisfied: pyasn1<0.5.0,>=0.4.6 in c:\\users\\owner\\anaconda3\\lib\\site-packages (from pyasn1-modules>=0.2.1->google-auth<3,>=1.6.3->tensorboard<2.13,>=2.12->tensorflow-intel==2.12.0->tensorflow>=1.9.0->deepface) (0.4.8)\n",
      "Requirement already satisfied: oauthlib>=3.0.0 in c:\\users\\owner\\anaconda3\\lib\\site-packages (from requests-oauthlib>=0.7.0->google-auth-oauthlib<1.1,>=0.5->tensorboard<2.13,>=2.12->tensorflow-intel==2.12.0->tensorflow>=1.9.0->deepface) (3.2.2)\n",
      "Building wheels for collected packages: fire\n",
      "  Building wheel for fire (setup.py): started\n",
      "  Building wheel for fire (setup.py): finished with status 'done'\n",
      "  Created wheel for fire: filename=fire-0.6.0-py2.py3-none-any.whl size=117031 sha256=a389ab3e93219b6038bd5000506f317e8f8bb63bc0db7df508871f9037fa0ede\n",
      "  Stored in directory: c:\\users\\owner\\appdata\\local\\pip\\cache\\wheels\\ec\\ce\\ba\\9d5764d2266c500c18776c7d8f1e3c023075994cbc6dea47db\n",
      "Successfully built fire\n",
      "Installing collected packages: numpy, fire, opencv-python, gunicorn, mtcnn, gdown, retina-face, deepface\n",
      "  Attempting uninstall: numpy\n",
      "    Found existing installation: numpy 1.26.4\n",
      "    Uninstalling numpy-1.26.4:\n",
      "      Successfully uninstalled numpy-1.26.4\n",
      "Successfully installed deepface-0.0.89 fire-0.6.0 gdown-5.1.0 gunicorn-21.2.0 mtcnn-0.1.1 numpy-1.23.5 opencv-python-4.9.0.80 retina-face-0.0.16\n",
      "Note: you may need to restart the kernel to use updated packages.\n"
     ]
    },
    {
     "name": "stderr",
     "output_type": "stream",
     "text": [
      "ERROR: pip's dependency resolver does not currently take into account all the packages that are installed. This behaviour is the source of the following dependency conflicts.\n",
      "daal4py 2021.6.0 requires daal==2021.4.0, which is not installed.\n",
      "numba 0.55.1 requires numpy<1.22,>=1.18, but you have numpy 1.23.5 which is incompatible.\n"
     ]
    }
   ],
   "source": [
    "pip install deepface "
   ]
  },
  {
   "cell_type": "code",
   "execution_count": 8,
   "metadata": {},
   "outputs": [
    {
     "ename": "ImportError",
     "evalue": "cannot import name 'functions' from 'deepface.commons' (c:\\Users\\Owner\\anaconda3\\lib\\site-packages\\deepface\\commons\\__init__.py)",
     "output_type": "error",
     "traceback": [
      "\u001b[1;31m---------------------------------------------------------------------------\u001b[0m",
      "\u001b[1;31mImportError\u001b[0m                               Traceback (most recent call last)",
      "\u001b[1;32m~\\AppData\\Local\\Temp\\ipykernel_34640\\490819767.py\u001b[0m in \u001b[0;36m<module>\u001b[1;34m\u001b[0m\n\u001b[0;32m      1\u001b[0m \u001b[1;32mfrom\u001b[0m \u001b[0mdeepface\u001b[0m \u001b[1;32mimport\u001b[0m \u001b[0mDeepFace\u001b[0m\u001b[1;33m\u001b[0m\u001b[1;33m\u001b[0m\u001b[0m\n\u001b[1;32m----> 2\u001b[1;33m \u001b[1;32mfrom\u001b[0m \u001b[0mdeepface\u001b[0m\u001b[1;33m.\u001b[0m\u001b[0mcommons\u001b[0m \u001b[1;32mimport\u001b[0m \u001b[0mfunctions\u001b[0m\u001b[1;33m\u001b[0m\u001b[1;33m\u001b[0m\u001b[0m\n\u001b[0m",
      "\u001b[1;31mImportError\u001b[0m: cannot import name 'functions' from 'deepface.commons' (c:\\Users\\Owner\\anaconda3\\lib\\site-packages\\deepface\\commons\\__init__.py)"
     ]
    }
   ],
   "source": [
    "from deepface import DeepFace\n",
    "from deepface.commons import functions"
   ]
  }
 ],
 "metadata": {
  "kernelspec": {
   "display_name": "base",
   "language": "python",
   "name": "python3"
  },
  "language_info": {
   "codemirror_mode": {
    "name": "ipython",
    "version": 3
   },
   "file_extension": ".py",
   "mimetype": "text/x-python",
   "name": "python",
   "nbconvert_exporter": "python",
   "pygments_lexer": "ipython3",
   "version": "3.9.13"
  }
 },
 "nbformat": 4,
 "nbformat_minor": 2
}
