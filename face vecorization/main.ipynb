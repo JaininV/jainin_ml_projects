{
 "cells": [
  {
   "cell_type": "code",
   "execution_count": 5,
   "metadata": {},
   "outputs": [
    {
     "name": "stdout",
     "output_type": "stream",
     "text": [
      "Collecting deepface\n",
      "  Downloading deepface-0.0.89-py3-none-any.whl (94 kB)\n",
      "     ---------------------------------------- 94.3/94.3 kB 2.7 MB/s eta 0:00:00\n",
      "Requirement already satisfied: keras>=2.2.0 in c:\\users\\owner\\anaconda3\\lib\\site-packages (from deepface) (2.12.0)\n",
      "Requirement already satisfied: numpy>=1.14.0 in c:\\users\\owner\\anaconda3\\lib\\site-packages (from deepface) (1.26.4)\n",
      "Collecting opencv-python>=4.5.5.64\n",
      "  Using cached opencv_python-4.9.0.80-cp37-abi3-win_amd64.whl (38.6 MB)\n",
      "Collecting retina-face>=0.0.1\n",
      "  Downloading retina_face-0.0.16-py3-none-any.whl (25 kB)\n",
      "Requirement already satisfied: Pillow>=5.2.0 in c:\\users\\owner\\anaconda3\\lib\\site-packages (from deepface) (9.2.0)\n",
      "Collecting gdown>=3.10.1\n",
      "  Downloading gdown-5.1.0-py3-none-any.whl (17 kB)\n",
      "Requirement already satisfied: tensorflow>=1.9.0 in c:\\users\\owner\\anaconda3\\lib\\site-packages (from deepface) (2.12.0)\n",
      "Collecting mtcnn>=0.1.0\n",
      "  Using cached mtcnn-0.1.1-py3-none-any.whl (2.3 MB)\n",
      "Collecting gunicorn>=20.1.0\n",
      "  Downloading gunicorn-21.2.0-py3-none-any.whl (80 kB)\n",
      "     ---------------------------------------- 80.2/80.2 kB 4.7 MB/s eta 0:00:00\n",
      "Requirement already satisfied: tqdm>=4.30.0 in c:\\users\\owner\\anaconda3\\lib\\site-packages (from deepface) (4.64.1)\n",
      "Requirement already satisfied: pandas>=0.23.4 in c:\\users\\owner\\anaconda3\\lib\\site-packages (from deepface) (1.4.4)\n",
      "Collecting fire>=0.4.0\n",
      "  Downloading fire-0.6.0.tar.gz (88 kB)\n",
      "     ---------------------------------------- 88.4/88.4 kB 5.2 MB/s eta 0:00:00\n",
      "  Preparing metadata (setup.py): started\n",
      "  Preparing metadata (setup.py): finished with status 'done'\n",
      "Requirement already satisfied: Flask>=1.1.2 in c:\\users\\owner\\anaconda3\\lib\\site-packages (from deepface) (1.1.2)\n",
      "Requirement already satisfied: six in c:\\users\\owner\\anaconda3\\lib\\site-packages (from fire>=0.4.0->deepface) (1.16.0)\n",
      "Requirement already satisfied: termcolor in c:\\users\\owner\\anaconda3\\lib\\site-packages (from fire>=0.4.0->deepface) (2.3.0)\n",
      "Requirement already satisfied: Werkzeug>=0.15 in c:\\users\\owner\\anaconda3\\lib\\site-packages (from Flask>=1.1.2->deepface) (2.0.3)\n",
      "Requirement already satisfied: click>=5.1 in c:\\users\\owner\\anaconda3\\lib\\site-packages (from Flask>=1.1.2->deepface) (8.0.4)\n",
      "Requirement already satisfied: Jinja2>=2.10.1 in c:\\users\\owner\\anaconda3\\lib\\site-packages (from Flask>=1.1.2->deepface) (2.11.3)\n",
      "Requirement already satisfied: itsdangerous>=0.24 in c:\\users\\owner\\anaconda3\\lib\\site-packages (from Flask>=1.1.2->deepface) (2.0.1)\n",
      "Requirement already satisfied: filelock in c:\\users\\owner\\anaconda3\\lib\\site-packages (from gdown>=3.10.1->deepface) (3.6.0)\n",
      "Requirement already satisfied: beautifulsoup4 in c:\\users\\owner\\anaconda3\\lib\\site-packages (from gdown>=3.10.1->deepface) (4.11.1)\n",
      "Requirement already satisfied: requests[socks] in c:\\users\\owner\\anaconda3\\lib\\site-packages (from gdown>=3.10.1->deepface) (2.28.1)\n",
      "Requirement already satisfied: packaging in c:\\users\\owner\\anaconda3\\lib\\site-packages (from gunicorn>=20.1.0->deepface) (21.3)\n",
      "Requirement already satisfied: python-dateutil>=2.8.1 in c:\\users\\owner\\anaconda3\\lib\\site-packages (from pandas>=0.23.4->deepface) (2.8.2)\n",
      "Requirement already satisfied: pytz>=2020.1 in c:\\users\\owner\\anaconda3\\lib\\site-packages (from pandas>=0.23.4->deepface) (2022.1)\n",
      "Requirement already satisfied: tensorflow-intel==2.12.0 in c:\\users\\owner\\anaconda3\\lib\\site-packages (from tensorflow>=1.9.0->deepface) (2.12.0)\n",
      "Requirement already satisfied: typing-extensions>=3.6.6 in c:\\users\\owner\\anaconda3\\lib\\site-packages (from tensorflow-intel==2.12.0->tensorflow>=1.9.0->deepface) (4.10.0)\n",
      "Requirement already satisfied: tensorflow-io-gcs-filesystem>=0.23.1 in c:\\users\\owner\\anaconda3\\lib\\site-packages (from tensorflow-intel==2.12.0->tensorflow>=1.9.0->deepface) (0.31.0)\n",
      "Requirement already satisfied: flatbuffers>=2.0 in c:\\users\\owner\\anaconda3\\lib\\site-packages (from tensorflow-intel==2.12.0->tensorflow>=1.9.0->deepface) (23.5.26)\n",
      "Requirement already satisfied: google-pasta>=0.1.1 in c:\\users\\owner\\anaconda3\\lib\\site-packages (from tensorflow-intel==2.12.0->tensorflow>=1.9.0->deepface) (0.2.0)\n",
      "Requirement already satisfied: jax>=0.3.15 in c:\\users\\owner\\anaconda3\\lib\\site-packages (from tensorflow-intel==2.12.0->tensorflow>=1.9.0->deepface) (0.4.12)\n",
      "Requirement already satisfied: protobuf!=4.21.0,!=4.21.1,!=4.21.2,!=4.21.3,!=4.21.4,!=4.21.5,<5.0.0dev,>=3.20.3 in c:\\users\\owner\\anaconda3\\lib\\site-packages (from tensorflow-intel==2.12.0->tensorflow>=1.9.0->deepface) (4.23.2)\n",
      "Requirement already satisfied: astunparse>=1.6.0 in c:\\users\\owner\\anaconda3\\lib\\site-packages (from tensorflow-intel==2.12.0->tensorflow>=1.9.0->deepface) (1.6.3)\n",
      "Requirement already satisfied: absl-py>=1.0.0 in c:\\users\\owner\\anaconda3\\lib\\site-packages (from tensorflow-intel==2.12.0->tensorflow>=1.9.0->deepface) (1.4.0)\n",
      "Requirement already satisfied: tensorflow-estimator<2.13,>=2.12.0 in c:\\users\\owner\\anaconda3\\lib\\site-packages (from tensorflow-intel==2.12.0->tensorflow>=1.9.0->deepface) (2.12.0)\n",
      "Requirement already satisfied: tensorboard<2.13,>=2.12 in c:\\users\\owner\\anaconda3\\lib\\site-packages (from tensorflow-intel==2.12.0->tensorflow>=1.9.0->deepface) (2.12.3)\n",
      "Requirement already satisfied: h5py>=2.9.0 in c:\\users\\owner\\anaconda3\\lib\\site-packages (from tensorflow-intel==2.12.0->tensorflow>=1.9.0->deepface) (3.7.0)\n",
      "Requirement already satisfied: wrapt<1.15,>=1.11.0 in c:\\users\\owner\\anaconda3\\lib\\site-packages (from tensorflow-intel==2.12.0->tensorflow>=1.9.0->deepface) (1.14.1)\n",
      "Requirement already satisfied: libclang>=13.0.0 in c:\\users\\owner\\anaconda3\\lib\\site-packages (from tensorflow-intel==2.12.0->tensorflow>=1.9.0->deepface) (16.0.0)\n",
      "Requirement already satisfied: gast<=0.4.0,>=0.2.1 in c:\\users\\owner\\anaconda3\\lib\\site-packages (from tensorflow-intel==2.12.0->tensorflow>=1.9.0->deepface) (0.4.0)\n",
      "Requirement already satisfied: grpcio<2.0,>=1.24.3 in c:\\users\\owner\\anaconda3\\lib\\site-packages (from tensorflow-intel==2.12.0->tensorflow>=1.9.0->deepface) (1.54.2)\n",
      "Collecting numpy>=1.14.0\n",
      "  Using cached numpy-1.23.5-cp39-cp39-win_amd64.whl (14.7 MB)\n",
      "Requirement already satisfied: setuptools in c:\\users\\owner\\anaconda3\\lib\\site-packages (from tensorflow-intel==2.12.0->tensorflow>=1.9.0->deepface) (63.4.1)\n",
      "Requirement already satisfied: opt-einsum>=2.3.2 in c:\\users\\owner\\anaconda3\\lib\\site-packages (from tensorflow-intel==2.12.0->tensorflow>=1.9.0->deepface) (3.3.0)\n",
      "Requirement already satisfied: colorama in c:\\users\\owner\\anaconda3\\lib\\site-packages (from tqdm>=4.30.0->deepface) (0.4.6)\n",
      "Requirement already satisfied: MarkupSafe>=0.23 in c:\\users\\owner\\anaconda3\\lib\\site-packages (from Jinja2>=2.10.1->Flask>=1.1.2->deepface) (2.0.1)\n",
      "Requirement already satisfied: soupsieve>1.2 in c:\\users\\owner\\anaconda3\\lib\\site-packages (from beautifulsoup4->gdown>=3.10.1->deepface) (2.3.1)\n",
      "Requirement already satisfied: pyparsing!=3.0.5,>=2.0.2 in c:\\users\\owner\\anaconda3\\lib\\site-packages (from packaging->gunicorn>=20.1.0->deepface) (3.0.9)\n",
      "Requirement already satisfied: certifi>=2017.4.17 in c:\\users\\owner\\anaconda3\\lib\\site-packages (from requests[socks]->gdown>=3.10.1->deepface) (2022.9.14)\n",
      "Requirement already satisfied: idna<4,>=2.5 in c:\\users\\owner\\anaconda3\\lib\\site-packages (from requests[socks]->gdown>=3.10.1->deepface) (3.3)\n",
      "Requirement already satisfied: charset-normalizer<3,>=2 in c:\\users\\owner\\anaconda3\\lib\\site-packages (from requests[socks]->gdown>=3.10.1->deepface) (2.0.4)\n",
      "Requirement already satisfied: urllib3<1.27,>=1.21.1 in c:\\users\\owner\\anaconda3\\lib\\site-packages (from requests[socks]->gdown>=3.10.1->deepface) (1.26.11)\n",
      "Requirement already satisfied: PySocks!=1.5.7,>=1.5.6 in c:\\users\\owner\\anaconda3\\lib\\site-packages (from requests[socks]->gdown>=3.10.1->deepface) (1.7.1)\n",
      "Requirement already satisfied: wheel<1.0,>=0.23.0 in c:\\users\\owner\\anaconda3\\lib\\site-packages (from astunparse>=1.6.0->tensorflow-intel==2.12.0->tensorflow>=1.9.0->deepface) (0.37.1)\n",
      "Requirement already satisfied: ml-dtypes>=0.1.0 in c:\\users\\owner\\anaconda3\\lib\\site-packages (from jax>=0.3.15->tensorflow-intel==2.12.0->tensorflow>=1.9.0->deepface) (0.2.0)\n",
      "Requirement already satisfied: importlib-metadata>=4.6 in c:\\users\\owner\\anaconda3\\lib\\site-packages (from jax>=0.3.15->tensorflow-intel==2.12.0->tensorflow>=1.9.0->deepface) (4.11.3)\n",
      "Requirement already satisfied: scipy>=1.7 in c:\\users\\owner\\anaconda3\\lib\\site-packages (from jax>=0.3.15->tensorflow-intel==2.12.0->tensorflow>=1.9.0->deepface) (1.9.1)\n",
      "Requirement already satisfied: google-auth-oauthlib<1.1,>=0.5 in c:\\users\\owner\\anaconda3\\lib\\site-packages (from tensorboard<2.13,>=2.12->tensorflow-intel==2.12.0->tensorflow>=1.9.0->deepface) (1.0.0)\n",
      "Requirement already satisfied: tensorboard-data-server<0.8.0,>=0.7.0 in c:\\users\\owner\\anaconda3\\lib\\site-packages (from tensorboard<2.13,>=2.12->tensorflow-intel==2.12.0->tensorflow>=1.9.0->deepface) (0.7.1)\n",
      "Requirement already satisfied: markdown>=2.6.8 in c:\\users\\owner\\anaconda3\\lib\\site-packages (from tensorboard<2.13,>=2.12->tensorflow-intel==2.12.0->tensorflow>=1.9.0->deepface) (3.3.4)\n",
      "Requirement already satisfied: google-auth<3,>=1.6.3 in c:\\users\\owner\\anaconda3\\lib\\site-packages (from tensorboard<2.13,>=2.12->tensorflow-intel==2.12.0->tensorflow>=1.9.0->deepface) (2.20.0)\n",
      "Requirement already satisfied: rsa<5,>=3.1.4 in c:\\users\\owner\\anaconda3\\lib\\site-packages (from google-auth<3,>=1.6.3->tensorboard<2.13,>=2.12->tensorflow-intel==2.12.0->tensorflow>=1.9.0->deepface) (4.9)\n",
      "Requirement already satisfied: pyasn1-modules>=0.2.1 in c:\\users\\owner\\anaconda3\\lib\\site-packages (from google-auth<3,>=1.6.3->tensorboard<2.13,>=2.12->tensorflow-intel==2.12.0->tensorflow>=1.9.0->deepface) (0.2.8)\n",
      "Requirement already satisfied: cachetools<6.0,>=2.0.0 in c:\\users\\owner\\anaconda3\\lib\\site-packages (from google-auth<3,>=1.6.3->tensorboard<2.13,>=2.12->tensorflow-intel==2.12.0->tensorflow>=1.9.0->deepface) (5.3.1)\n",
      "Requirement already satisfied: requests-oauthlib>=0.7.0 in c:\\users\\owner\\anaconda3\\lib\\site-packages (from google-auth-oauthlib<1.1,>=0.5->tensorboard<2.13,>=2.12->tensorflow-intel==2.12.0->tensorflow>=1.9.0->deepface) (1.3.1)\n",
      "Requirement already satisfied: zipp>=0.5 in c:\\users\\owner\\anaconda3\\lib\\site-packages (from importlib-metadata>=4.6->jax>=0.3.15->tensorflow-intel==2.12.0->tensorflow>=1.9.0->deepface) (3.8.0)\n",
      "Requirement already satisfied: pyasn1<0.5.0,>=0.4.6 in c:\\users\\owner\\anaconda3\\lib\\site-packages (from pyasn1-modules>=0.2.1->google-auth<3,>=1.6.3->tensorboard<2.13,>=2.12->tensorflow-intel==2.12.0->tensorflow>=1.9.0->deepface) (0.4.8)\n",
      "Requirement already satisfied: oauthlib>=3.0.0 in c:\\users\\owner\\anaconda3\\lib\\site-packages (from requests-oauthlib>=0.7.0->google-auth-oauthlib<1.1,>=0.5->tensorboard<2.13,>=2.12->tensorflow-intel==2.12.0->tensorflow>=1.9.0->deepface) (3.2.2)\n",
      "Building wheels for collected packages: fire\n",
      "  Building wheel for fire (setup.py): started\n",
      "  Building wheel for fire (setup.py): finished with status 'done'\n",
      "  Created wheel for fire: filename=fire-0.6.0-py2.py3-none-any.whl size=117031 sha256=a389ab3e93219b6038bd5000506f317e8f8bb63bc0db7df508871f9037fa0ede\n",
      "  Stored in directory: c:\\users\\owner\\appdata\\local\\pip\\cache\\wheels\\ec\\ce\\ba\\9d5764d2266c500c18776c7d8f1e3c023075994cbc6dea47db\n",
      "Successfully built fire\n",
      "Installing collected packages: numpy, fire, opencv-python, gunicorn, mtcnn, gdown, retina-face, deepface\n",
      "  Attempting uninstall: numpy\n",
      "    Found existing installation: numpy 1.26.4\n",
      "    Uninstalling numpy-1.26.4:\n",
      "      Successfully uninstalled numpy-1.26.4\n",
      "Successfully installed deepface-0.0.89 fire-0.6.0 gdown-5.1.0 gunicorn-21.2.0 mtcnn-0.1.1 numpy-1.23.5 opencv-python-4.9.0.80 retina-face-0.0.16\n",
      "Note: you may need to restart the kernel to use updated packages.\n"
     ]
    },
    {
     "name": "stderr",
     "output_type": "stream",
     "text": [
      "ERROR: pip's dependency resolver does not currently take into account all the packages that are installed. This behaviour is the source of the following dependency conflicts.\n",
      "daal4py 2021.6.0 requires daal==2021.4.0, which is not installed.\n",
      "numba 0.55.1 requires numpy<1.22,>=1.18, but you have numpy 1.23.5 which is incompatible.\n"
     ]
    }
   ],
   "source": [
    "pip install deepface "
   ]
  },
  {
   "cell_type": "code",
   "execution_count": 20,
   "metadata": {},
   "outputs": [
    {
     "ename": "ImportError",
     "evalue": "cannot import name 'functions' from 'deepface.commons' (c:\\Users\\Owner\\anaconda3\\lib\\site-packages\\deepface\\commons\\__init__.py)",
     "output_type": "error",
     "traceback": [
      "\u001b[1;31m---------------------------------------------------------------------------\u001b[0m",
      "\u001b[1;31mImportError\u001b[0m                               Traceback (most recent call last)",
      "\u001b[1;32m~\\AppData\\Local\\Temp\\ipykernel_34640\\490819767.py\u001b[0m in \u001b[0;36m<module>\u001b[1;34m\u001b[0m\n\u001b[0;32m      1\u001b[0m \u001b[1;32mfrom\u001b[0m \u001b[0mdeepface\u001b[0m \u001b[1;32mimport\u001b[0m \u001b[0mDeepFace\u001b[0m\u001b[1;33m\u001b[0m\u001b[1;33m\u001b[0m\u001b[0m\n\u001b[1;32m----> 2\u001b[1;33m \u001b[1;32mfrom\u001b[0m \u001b[0mdeepface\u001b[0m\u001b[1;33m.\u001b[0m\u001b[0mcommons\u001b[0m \u001b[1;32mimport\u001b[0m \u001b[0mfunctions\u001b[0m\u001b[1;33m\u001b[0m\u001b[1;33m\u001b[0m\u001b[0m\n\u001b[0m",
      "\u001b[1;31mImportError\u001b[0m: cannot import name 'functions' from 'deepface.commons' (c:\\Users\\Owner\\anaconda3\\lib\\site-packages\\deepface\\commons\\__init__.py)"
     ]
    }
   ],
   "source": [
    "from deepface import DeepFace\n",
    "from deepface.commons import functions"
   ]
  },
  {
   "cell_type": "code",
   "execution_count": 11,
   "metadata": {},
   "outputs": [],
   "source": [
    "face_db = {\n",
    "    'happy': 'angry.jpg',\n",
    "    'sad': 'sad.jpg',\n",
    "    'nutreal': 'nutreal.jpg',\n",
    "    'angry': 'angry.jpg',\n",
    "}"
   ]
  },
  {
   "cell_type": "code",
   "execution_count": 14,
   "metadata": {},
   "outputs": [],
   "source": [
    "# Build model\n",
    "face_model = DeepFace.build_model(\"Facenet\")"
   ]
  },
  {
   "cell_type": "code",
   "execution_count": 22,
   "metadata": {},
   "outputs": [],
   "source": [
    "import matplotlib.pyplot as plt\n",
    "import numpy as np\n",
    "from PIL import Image"
   ]
  },
  {
   "cell_type": "code",
   "execution_count": 33,
   "metadata": {},
   "outputs": [],
   "source": [
    "i = 1\n",
    "face_disc = {}\n",
    "for lb in face_db.keys():\n",
    "    deep_face = DeepFace.represent(face_db[lb], model_name=\"Facenet\")[0]['embedding']\n",
    "    arr = np.array(deep_face)\n",
    "\n",
    "    face_disc[lb] = arr"
   ]
  },
  {
   "cell_type": "code",
   "execution_count": 37,
   "metadata": {},
   "outputs": [
    {
     "data": {
      "text/plain": [
       "{'happy': array([-0.96595705,  1.51642227,  0.61144662,  0.95994055,  0.63557571,\n",
       "        -2.47939634,  0.28122398, -0.14358427, -0.95776731, -0.58492708,\n",
       "         1.62498152, -1.06401038,  0.87086928, -1.43586481,  0.29965472,\n",
       "         0.85235125, -0.78820777,  0.49131995, -2.46882486,  1.65372133,\n",
       "         0.40052906,  1.84612787, -0.68615562, -0.30756101,  0.34056225,\n",
       "         1.41655993, -2.07734203,  2.41525078,  1.30887032,  0.84040701,\n",
       "         0.7768501 , -1.01651573, -1.58424008,  0.35907194,  1.01416421,\n",
       "         0.20179808,  0.18846163, -1.50197232, -0.33179158,  0.84879696,\n",
       "        -0.50105667,  1.37553048,  0.00513211, -0.02190777,  1.41402161,\n",
       "        -0.59815079,  0.85258281,  0.4125042 , -0.03234498,  0.65270185,\n",
       "        -1.45824575,  1.60321891, -0.9860841 ,  1.08889425, -3.61225748,\n",
       "         1.02369285,  2.07879901, -0.41287827, -0.38725525,  1.34156311,\n",
       "         1.35867047, -0.09619325,  0.99410534,  0.62468344, -1.00206649,\n",
       "         0.0255418 ,  1.17363429,  0.22491448,  0.48393506, -0.42221195,\n",
       "         0.13030624, -0.06230058, -0.26435512, -0.7792787 ,  1.15018082,\n",
       "        -0.76531094,  1.2869035 ,  0.75343448, -1.37914312,  0.39526886,\n",
       "        -0.01343566, -1.48217309, -0.59713042,  0.08980078,  0.45173383,\n",
       "        -0.05029161, -1.30008101, -0.61696899,  0.75518572, -0.47272468,\n",
       "        -0.17436513, -0.32452759,  0.83994865,  0.09221578, -0.20187679,\n",
       "        -0.12985703, -0.83314896, -1.40302384,  0.28158233, -1.38496518,\n",
       "         1.15496552,  2.01641893,  0.33387899, -1.24000096,  1.32769954,\n",
       "         1.7908926 , -0.99032366, -0.81948006, -0.73663825,  1.19926345,\n",
       "         0.61325061,  1.30483496,  0.32194173,  0.98606509,  2.14480948,\n",
       "         0.92735946, -0.84315693, -1.61005473, -1.4864732 ,  0.97013879,\n",
       "         1.04653311, -0.02588203, -0.07753977, -1.57814205, -0.02060758,\n",
       "        -1.42889202, -0.06741104,  0.31713924]),\n",
       " 'sad': array([-0.8846097 , -1.4243654 , -0.99875689,  0.21909148,  1.15754426,\n",
       "         0.08739982,  0.85043061,  0.52373362,  0.30738038,  1.53449833,\n",
       "         0.16461766,  1.10089612,  0.51140177,  1.149593  ,  0.42100918,\n",
       "         0.44867736,  1.07694137, -1.67998135, -1.26690841,  0.1801324 ,\n",
       "        -0.7566607 ,  0.29360008, -1.29205775,  0.49489847, -1.53345001,\n",
       "         1.10510027,  2.49437332, -1.0016588 ,  0.89183462, -0.0987531 ,\n",
       "         0.70356596,  0.96230698, -0.46096772, -1.36377656,  0.9306345 ,\n",
       "        -0.08037335, -0.33566582,  0.3248595 ,  0.24584767, -0.24186948,\n",
       "        -0.78638965, -0.14959291,  0.53696293,  0.88359499, -0.24496131,\n",
       "        -1.42682302, -0.34763354, -1.22285497, -0.18636289,  0.20344597,\n",
       "         0.24257466,  0.77733523, -0.9127512 , -0.12660481,  1.09770942,\n",
       "        -0.49840662, -0.50090462,  0.59886706,  0.24742065, -0.60994643,\n",
       "        -1.1668148 ,  0.91777593,  0.7342363 , -0.54980898, -0.03967388,\n",
       "         0.22304294, -1.31207418,  2.36009717, -1.17359924,  0.32291907,\n",
       "        -0.84831446,  1.31615591, -0.44051912, -0.43733704,  0.43006673,\n",
       "        -0.08999749, -0.94680226, -2.13264227, -0.87294567, -0.76972455,\n",
       "        -1.06454313,  1.08186638, -0.8786549 , -0.08439991, -2.22549033,\n",
       "        -0.46717823, -1.22208285,  0.295376  ,  0.24026838, -2.81832099,\n",
       "        -1.00951278, -0.96771514, -0.10089619, -0.9040243 ,  1.35080457,\n",
       "        -0.3244682 ,  0.47600541,  0.61569977,  2.10103464,  0.11543246,\n",
       "         0.61675972,  0.60533935, -2.26314497,  0.03494043,  0.54519117,\n",
       "        -0.49581701,  1.2033335 , -1.49432623,  1.56659114, -0.16677836,\n",
       "         1.41007662, -0.49991763,  2.23166108, -0.87347853, -0.8202942 ,\n",
       "         0.47590449, -0.17069577,  1.24756384, -0.47086087,  0.5636524 ,\n",
       "        -0.24289225,  1.32851362,  1.64544642, -1.57066381, -0.54767281,\n",
       "         1.77997947,  0.87575573, -0.57697809]),\n",
       " 'nutreal': array([ 1.15304029,  0.30597177, -1.60268497, -1.50467348, -1.67134893,\n",
       "         0.81319684, -0.55048716,  0.9070549 ,  0.00609187,  0.24499518,\n",
       "        -0.16531481,  1.39878643, -0.01042589, -0.89157617, -0.021584  ,\n",
       "         0.47913504,  0.30223349, -2.45259762,  0.02962219, -0.3927722 ,\n",
       "         0.48613271, -1.11139798,  0.09575398,  0.26678741,  0.91624188,\n",
       "        -0.50439   ,  0.74166965,  1.56174743, -0.71290702, -0.23540318,\n",
       "         0.23611955,  0.85396981,  2.58216262,  0.13073593,  0.06302413,\n",
       "        -0.30506667, -0.97914553, -0.56137556, -0.17753693, -0.05889671,\n",
       "        -1.90559709,  2.16561747, -1.60897291, -1.93452322,  0.30981401,\n",
       "        -1.79142988,  0.02905737,  2.37627268, -1.16101241,  0.50719196,\n",
       "        -0.40963751, -0.4331615 , -0.0299812 ,  1.31390572,  1.22176611,\n",
       "         1.39776361,  1.33148861, -0.46414566, -1.44905949,  0.58028114,\n",
       "         0.15110967,  0.49231887,  0.75887138,  0.13606441,  1.15086901,\n",
       "        -0.08091404, -0.54206824,  1.47540128, -0.52558827,  0.62818921,\n",
       "         0.41063163,  0.9715656 , -0.63974804,  0.97412664,  0.16534948,\n",
       "        -0.79933918, -0.4760488 , -1.02375984,  1.8303777 , -0.60231745,\n",
       "         0.05811212, -0.13775407,  0.7609219 , -0.46209204,  1.51841736,\n",
       "        -0.29340896,  1.71895671, -0.89230901,  1.42477977,  0.56156051,\n",
       "        -1.25767004, -0.59638304,  0.65582216,  0.2505669 ,  1.15864003,\n",
       "         1.84310615, -1.28685784,  0.94049364, -1.95401645,  0.42350158,\n",
       "         1.47346437, -1.15842235, -0.65637779,  0.40084136,  0.60941255,\n",
       "        -1.0905478 , -1.59732807, -0.09965767,  1.16716659,  0.75109863,\n",
       "        -0.71679103, -1.25800848, -0.70372391,  0.54826802, -1.31997883,\n",
       "         0.10398628, -1.40805054,  0.27487245,  1.94425488, -1.25477707,\n",
       "         1.521667  ,  0.47682068, -0.49535698,  0.96801525,  2.31528091,\n",
       "        -0.06582426, -0.08910047, -0.52783829]),\n",
       " 'angry': array([-0.96595705,  1.51642227,  0.61144662,  0.95994055,  0.63557571,\n",
       "        -2.47939634,  0.28122398, -0.14358427, -0.95776731, -0.58492708,\n",
       "         1.62498152, -1.06401038,  0.87086928, -1.43586481,  0.29965472,\n",
       "         0.85235125, -0.78820777,  0.49131995, -2.46882486,  1.65372133,\n",
       "         0.40052906,  1.84612787, -0.68615562, -0.30756101,  0.34056225,\n",
       "         1.41655993, -2.07734203,  2.41525078,  1.30887032,  0.84040701,\n",
       "         0.7768501 , -1.01651573, -1.58424008,  0.35907194,  1.01416421,\n",
       "         0.20179808,  0.18846163, -1.50197232, -0.33179158,  0.84879696,\n",
       "        -0.50105667,  1.37553048,  0.00513211, -0.02190777,  1.41402161,\n",
       "        -0.59815079,  0.85258281,  0.4125042 , -0.03234498,  0.65270185,\n",
       "        -1.45824575,  1.60321891, -0.9860841 ,  1.08889425, -3.61225748,\n",
       "         1.02369285,  2.07879901, -0.41287827, -0.38725525,  1.34156311,\n",
       "         1.35867047, -0.09619325,  0.99410534,  0.62468344, -1.00206649,\n",
       "         0.0255418 ,  1.17363429,  0.22491448,  0.48393506, -0.42221195,\n",
       "         0.13030624, -0.06230058, -0.26435512, -0.7792787 ,  1.15018082,\n",
       "        -0.76531094,  1.2869035 ,  0.75343448, -1.37914312,  0.39526886,\n",
       "        -0.01343566, -1.48217309, -0.59713042,  0.08980078,  0.45173383,\n",
       "        -0.05029161, -1.30008101, -0.61696899,  0.75518572, -0.47272468,\n",
       "        -0.17436513, -0.32452759,  0.83994865,  0.09221578, -0.20187679,\n",
       "        -0.12985703, -0.83314896, -1.40302384,  0.28158233, -1.38496518,\n",
       "         1.15496552,  2.01641893,  0.33387899, -1.24000096,  1.32769954,\n",
       "         1.7908926 , -0.99032366, -0.81948006, -0.73663825,  1.19926345,\n",
       "         0.61325061,  1.30483496,  0.32194173,  0.98606509,  2.14480948,\n",
       "         0.92735946, -0.84315693, -1.61005473, -1.4864732 ,  0.97013879,\n",
       "         1.04653311, -0.02588203, -0.07753977, -1.57814205, -0.02060758,\n",
       "        -1.42889202, -0.06741104,  0.31713924])}"
      ]
     },
     "execution_count": 37,
     "metadata": {},
     "output_type": "execute_result"
    }
   ],
   "source": [
    "face_disc"
   ]
  },
  {
   "cell_type": "code",
   "execution_count": 45,
   "metadata": {},
   "outputs": [
    {
     "name": "stdout",
     "output_type": "stream",
     "text": [
      "Requirement already satisfied: astrapy in c:\\users\\owner\\anaconda3\\lib\\site-packages (0.7.7)\n",
      "Requirement already satisfied: toml<0.11.0,>=0.10.2 in c:\\users\\owner\\anaconda3\\lib\\site-packages (from astrapy) (0.10.2)\n",
      "Requirement already satisfied: deprecation<2.2.0,>=2.1.0 in c:\\users\\owner\\anaconda3\\lib\\site-packages (from astrapy) (2.1.0)\n",
      "Requirement already satisfied: httpx[http2]<1,>=0.25.2 in c:\\users\\owner\\anaconda3\\lib\\site-packages (from astrapy) (0.27.0)\n",
      "Requirement already satisfied: cassio<0.2.0,>=0.1.4 in c:\\users\\owner\\anaconda3\\lib\\site-packages (from astrapy) (0.1.5)\n",
      "Requirement already satisfied: cassandra-driver>=3.28.0 in c:\\users\\owner\\anaconda3\\lib\\site-packages (from cassio<0.2.0,>=0.1.4->astrapy) (3.29.1)\n",
      "Requirement already satisfied: numpy>=1.0 in c:\\users\\owner\\anaconda3\\lib\\site-packages (from cassio<0.2.0,>=0.1.4->astrapy) (1.23.5)\n",
      "Requirement already satisfied: requests>=2 in c:\\users\\owner\\anaconda3\\lib\\site-packages (from cassio<0.2.0,>=0.1.4->astrapy) (2.28.1)\n",
      "Requirement already satisfied: packaging in c:\\users\\owner\\anaconda3\\lib\\site-packages (from deprecation<2.2.0,>=2.1.0->astrapy) (21.3)\n",
      "Requirement already satisfied: httpcore==1.* in c:\\users\\owner\\anaconda3\\lib\\site-packages (from httpx[http2]<1,>=0.25.2->astrapy) (1.0.5)\n",
      "Requirement already satisfied: idna in c:\\users\\owner\\anaconda3\\lib\\site-packages (from httpx[http2]<1,>=0.25.2->astrapy) (3.3)\n",
      "Requirement already satisfied: anyio in c:\\users\\owner\\anaconda3\\lib\\site-packages (from httpx[http2]<1,>=0.25.2->astrapy) (3.5.0)\n",
      "Requirement already satisfied: certifi in c:\\users\\owner\\anaconda3\\lib\\site-packages (from httpx[http2]<1,>=0.25.2->astrapy) (2022.9.14)\n",
      "Requirement already satisfied: sniffio in c:\\users\\owner\\anaconda3\\lib\\site-packages (from httpx[http2]<1,>=0.25.2->astrapy) (1.2.0)\n",
      "Requirement already satisfied: h2<5,>=3 in c:\\users\\owner\\anaconda3\\lib\\site-packages (from httpx[http2]<1,>=0.25.2->astrapy) (4.1.0)\n",
      "Requirement already satisfied: h11<0.15,>=0.13 in c:\\users\\owner\\anaconda3\\lib\\site-packages (from httpcore==1.*->httpx[http2]<1,>=0.25.2->astrapy) (0.14.0)\n",
      "Requirement already satisfied: geomet<0.3,>=0.1 in c:\\users\\owner\\anaconda3\\lib\\site-packages (from cassandra-driver>=3.28.0->cassio<0.2.0,>=0.1.4->astrapy) (0.2.1.post1)\n",
      "Requirement already satisfied: hpack<5,>=4.0 in c:\\users\\owner\\anaconda3\\lib\\site-packages (from h2<5,>=3->httpx[http2]<1,>=0.25.2->astrapy) (4.0.0)\n",
      "Requirement already satisfied: hyperframe<7,>=6.0 in c:\\users\\owner\\anaconda3\\lib\\site-packages (from h2<5,>=3->httpx[http2]<1,>=0.25.2->astrapy) (6.0.1)\n",
      "Requirement already satisfied: charset-normalizer<3,>=2 in c:\\users\\owner\\anaconda3\\lib\\site-packages (from requests>=2->cassio<0.2.0,>=0.1.4->astrapy) (2.0.4)\n",
      "Requirement already satisfied: urllib3<1.27,>=1.21.1 in c:\\users\\owner\\anaconda3\\lib\\site-packages (from requests>=2->cassio<0.2.0,>=0.1.4->astrapy) (1.26.11)\n",
      "Requirement already satisfied: pyparsing!=3.0.5,>=2.0.2 in c:\\users\\owner\\anaconda3\\lib\\site-packages (from packaging->deprecation<2.2.0,>=2.1.0->astrapy) (3.0.9)\n",
      "Requirement already satisfied: click in c:\\users\\owner\\anaconda3\\lib\\site-packages (from geomet<0.3,>=0.1->cassandra-driver>=3.28.0->cassio<0.2.0,>=0.1.4->astrapy) (8.0.4)\n",
      "Requirement already satisfied: six in c:\\users\\owner\\anaconda3\\lib\\site-packages (from geomet<0.3,>=0.1->cassandra-driver>=3.28.0->cassio<0.2.0,>=0.1.4->astrapy) (1.16.0)\n",
      "Requirement already satisfied: colorama in c:\\users\\owner\\anaconda3\\lib\\site-packages (from click->geomet<0.3,>=0.1->cassandra-driver>=3.28.0->cassio<0.2.0,>=0.1.4->astrapy) (0.4.6)\n",
      "Note: you may need to restart the kernel to use updated packages.\n"
     ]
    }
   ],
   "source": [
    "pip install astrapy"
   ]
  },
  {
   "cell_type": "code",
   "execution_count": 52,
   "metadata": {},
   "outputs": [],
   "source": [
    "# Inserting data into datastax\n",
    "from astrapy.db import AstraDB"
   ]
  },
  {
   "cell_type": "code",
   "execution_count": 55,
   "metadata": {},
   "outputs": [
    {
     "data": {
      "text/plain": [
       "{'status': {'collections': ['face_data', 'movie_reviews']}}"
      ]
     },
     "execution_count": 55,
     "metadata": {},
     "output_type": "execute_result"
    }
   ],
   "source": [
    "database_config = AstraDB(\n",
    "    token=\"AstraCS:yLRBMTxsdyLovxHbydlGWNqu:936b09bc757cb14981e3801f78aa38acd13d43b1516689d27368e6b91b7b03db\",\n",
    "    api_endpoint=\"https://db3b0d62-1548-4245-bd2f-1c8988a70336-us-east1.apps.astra.datastax.com\"\n",
    ")\n",
    "\n",
    "database_config.get_collections()"
   ]
  },
  {
   "cell_type": "code",
   "execution_count": 58,
   "metadata": {},
   "outputs": [
    {
     "ename": "APIRequestError",
     "evalue": "{\"status\":{\"insertedIds\":[]},\"errors\":[{\"message\":\"Mismatched vector dimension\",\"errorCode\":\"INVALID_QUERY\"}]}",
     "output_type": "error",
     "traceback": [
      "\u001b[1;31m---------------------------------------------------------------------------\u001b[0m",
      "\u001b[1;31mAPIRequestError\u001b[0m                           Traceback (most recent call last)",
      "\u001b[1;32mc:\\Users\\Owner\\anaconda3\\lib\\site-packages\\astrapy\\api.py\u001b[0m in \u001b[0;36mprocess_raw_api_response\u001b[1;34m(raw_response, skip_error_check)\u001b[0m\n\u001b[0;32m     58\u001b[0m \u001b[1;33m\u001b[0m\u001b[0m\n\u001b[1;32m---> 59\u001b[1;33m             \u001b[1;32mraise\u001b[0m \u001b[0mAPIRequestError\u001b[0m\u001b[1;33m(\u001b[0m\u001b[0mraw_response\u001b[0m\u001b[1;33m)\u001b[0m\u001b[1;33m\u001b[0m\u001b[1;33m\u001b[0m\u001b[0m\n\u001b[0m\u001b[0;32m     60\u001b[0m \u001b[1;33m\u001b[0m\u001b[0m\n",
      "\u001b[1;31mAPIRequestError\u001b[0m: {\"status\":{\"insertedIds\":[]},\"errors\":[{\"message\":\"Mismatched vector dimension\",\"errorCode\":\"INVALID_QUERY\"}]}",
      "\nDuring handling of the above exception, another exception occurred:\n",
      "\u001b[1;31mAPIRequestError\u001b[0m                           Traceback (most recent call last)",
      "\u001b[1;32m~\\AppData\\Local\\Temp\\ipykernel_34640\\3880226192.py\u001b[0m in \u001b[0;36m<module>\u001b[1;34m\u001b[0m\n\u001b[0;32m      1\u001b[0m \u001b[0mi\u001b[0m \u001b[1;33m=\u001b[0m \u001b[1;36m0\u001b[0m\u001b[1;33m\u001b[0m\u001b[1;33m\u001b[0m\u001b[0m\n\u001b[0;32m      2\u001b[0m \u001b[1;32mfor\u001b[0m \u001b[0mimg\u001b[0m\u001b[1;33m,\u001b[0m \u001b[0mj\u001b[0m \u001b[1;32min\u001b[0m \u001b[0mface_disc\u001b[0m\u001b[1;33m.\u001b[0m\u001b[0mitems\u001b[0m\u001b[1;33m(\u001b[0m\u001b[1;33m)\u001b[0m\u001b[1;33m:\u001b[0m\u001b[1;33m\u001b[0m\u001b[1;33m\u001b[0m\u001b[0m\n\u001b[1;32m----> 3\u001b[1;33m     data = database_config.collection(\n\u001b[0m\u001b[0;32m      4\u001b[0m         \u001b[0mcollection_name\u001b[0m\u001b[1;33m=\u001b[0m\u001b[1;34m'face_data'\u001b[0m\u001b[1;33m\u001b[0m\u001b[1;33m\u001b[0m\u001b[0m\n\u001b[0;32m      5\u001b[0m     ).insert_one({\"_id\": i, \"$vector\": list(j)})\n",
      "\u001b[1;32mc:\\Users\\Owner\\anaconda3\\lib\\site-packages\\astrapy\\db.py\u001b[0m in \u001b[0;36minsert_one\u001b[1;34m(self, document, failures_allowed)\u001b[0m\n\u001b[0;32m    733\u001b[0m         \u001b[0mjson_query\u001b[0m \u001b[1;33m=\u001b[0m \u001b[0mmake_payload\u001b[0m\u001b[1;33m(\u001b[0m\u001b[0mtop_level\u001b[0m\u001b[1;33m=\u001b[0m\u001b[1;34m\"insertOne\"\u001b[0m\u001b[1;33m,\u001b[0m \u001b[0mdocument\u001b[0m\u001b[1;33m=\u001b[0m\u001b[0mdocument\u001b[0m\u001b[1;33m)\u001b[0m\u001b[1;33m\u001b[0m\u001b[1;33m\u001b[0m\u001b[0m\n\u001b[0;32m    734\u001b[0m \u001b[1;33m\u001b[0m\u001b[0m\n\u001b[1;32m--> 735\u001b[1;33m         response = self._request(\n\u001b[0m\u001b[0;32m    736\u001b[0m             \u001b[0mmethod\u001b[0m\u001b[1;33m=\u001b[0m\u001b[0mhttp_methods\u001b[0m\u001b[1;33m.\u001b[0m\u001b[0mPOST\u001b[0m\u001b[1;33m,\u001b[0m\u001b[1;33m\u001b[0m\u001b[1;33m\u001b[0m\u001b[0m\n\u001b[0;32m    737\u001b[0m             \u001b[0mpath\u001b[0m\u001b[1;33m=\u001b[0m\u001b[0mself\u001b[0m\u001b[1;33m.\u001b[0m\u001b[0mbase_path\u001b[0m\u001b[1;33m,\u001b[0m\u001b[1;33m\u001b[0m\u001b[1;33m\u001b[0m\u001b[0m\n",
      "\u001b[1;32mc:\\Users\\Owner\\anaconda3\\lib\\site-packages\\astrapy\\db.py\u001b[0m in \u001b[0;36m_request\u001b[1;34m(self, method, path, json_data, url_params, skip_error_check)\u001b[0m\n\u001b[0;32m    193\u001b[0m         \u001b[0mskip_error_check\u001b[0m\u001b[1;33m:\u001b[0m \u001b[0mbool\u001b[0m \u001b[1;33m=\u001b[0m \u001b[1;32mFalse\u001b[0m\u001b[1;33m,\u001b[0m\u001b[1;33m\u001b[0m\u001b[1;33m\u001b[0m\u001b[0m\n\u001b[0;32m    194\u001b[0m     ) -> API_RESPONSE:\n\u001b[1;32m--> 195\u001b[1;33m         direct_response = api_request(\n\u001b[0m\u001b[0;32m    196\u001b[0m             \u001b[0mclient\u001b[0m\u001b[1;33m=\u001b[0m\u001b[0mself\u001b[0m\u001b[1;33m.\u001b[0m\u001b[0mclient\u001b[0m\u001b[1;33m,\u001b[0m\u001b[1;33m\u001b[0m\u001b[1;33m\u001b[0m\u001b[0m\n\u001b[0;32m    197\u001b[0m             \u001b[0mbase_url\u001b[0m\u001b[1;33m=\u001b[0m\u001b[0mself\u001b[0m\u001b[1;33m.\u001b[0m\u001b[0mastra_db\u001b[0m\u001b[1;33m.\u001b[0m\u001b[0mbase_url\u001b[0m\u001b[1;33m,\u001b[0m\u001b[1;33m\u001b[0m\u001b[1;33m\u001b[0m\u001b[0m\n",
      "\u001b[1;32mc:\\Users\\Owner\\anaconda3\\lib\\site-packages\\astrapy\\api.py\u001b[0m in \u001b[0;36mapi_request\u001b[1;34m(client, base_url, auth_header, token, method, json_data, url_params, path, skip_error_check, caller_name, caller_version)\u001b[0m\n\u001b[0;32m     92\u001b[0m     )\n\u001b[0;32m     93\u001b[0m     \u001b[0mraw_response\u001b[0m\u001b[1;33m.\u001b[0m\u001b[0mraise_for_status\u001b[0m\u001b[1;33m(\u001b[0m\u001b[1;33m)\u001b[0m\u001b[1;33m\u001b[0m\u001b[1;33m\u001b[0m\u001b[0m\n\u001b[1;32m---> 94\u001b[1;33m     \u001b[1;32mreturn\u001b[0m \u001b[0mprocess_raw_api_response\u001b[0m\u001b[1;33m(\u001b[0m\u001b[0mraw_response\u001b[0m\u001b[1;33m,\u001b[0m \u001b[0mskip_error_check\u001b[0m\u001b[1;33m=\u001b[0m\u001b[0mskip_error_check\u001b[0m\u001b[1;33m)\u001b[0m\u001b[1;33m\u001b[0m\u001b[1;33m\u001b[0m\u001b[0m\n\u001b[0m\u001b[0;32m     95\u001b[0m \u001b[1;33m\u001b[0m\u001b[0m\n\u001b[0;32m     96\u001b[0m \u001b[1;33m\u001b[0m\u001b[0m\n",
      "\u001b[1;32mc:\\Users\\Owner\\anaconda3\\lib\\site-packages\\astrapy\\api.py\u001b[0m in \u001b[0;36mprocess_raw_api_response\u001b[1;34m(raw_response, skip_error_check)\u001b[0m\n\u001b[0;32m     63\u001b[0m     \u001b[1;32mexcept\u001b[0m \u001b[0mValueError\u001b[0m\u001b[1;33m:\u001b[0m\u001b[1;33m\u001b[0m\u001b[1;33m\u001b[0m\u001b[0m\n\u001b[0;32m     64\u001b[0m         \u001b[1;31m# Handle cases where json() parsing fails (e.g., empty body)\u001b[0m\u001b[1;33m\u001b[0m\u001b[1;33m\u001b[0m\u001b[0m\n\u001b[1;32m---> 65\u001b[1;33m         \u001b[1;32mraise\u001b[0m \u001b[0mAPIRequestError\u001b[0m\u001b[1;33m(\u001b[0m\u001b[0mraw_response\u001b[0m\u001b[1;33m)\u001b[0m\u001b[1;33m\u001b[0m\u001b[1;33m\u001b[0m\u001b[0m\n\u001b[0m\u001b[0;32m     66\u001b[0m \u001b[1;33m\u001b[0m\u001b[0m\n\u001b[0;32m     67\u001b[0m \u001b[1;33m\u001b[0m\u001b[0m\n",
      "\u001b[1;31mAPIRequestError\u001b[0m: {\"status\":{\"insertedIds\":[]},\"errors\":[{\"message\":\"Mismatched vector dimension\",\"errorCode\":\"INVALID_QUERY\"}]}"
     ]
    }
   ],
   "source": [
    "i = 0\n",
    "for img, j in face_disc.items():\n",
    "    data = database_config.collection(\n",
    "        collection_name='face_data'\n",
    "    ).insert_one({\"_id\": i, \"$vector\": list(j)})\n",
    "\n",
    "    print(f\"Type of emotion: {img}\" )"
   ]
  }
 ],
 "metadata": {
  "kernelspec": {
   "display_name": "base",
   "language": "python",
   "name": "python3"
  },
  "language_info": {
   "codemirror_mode": {
    "name": "ipython",
    "version": 3
   },
   "file_extension": ".py",
   "mimetype": "text/x-python",
   "name": "python",
   "nbconvert_exporter": "python",
   "pygments_lexer": "ipython3",
   "version": "3.9.13"
  }
 },
 "nbformat": 4,
 "nbformat_minor": 2
}
